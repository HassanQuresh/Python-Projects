{
  "nbformat": 4,
  "nbformat_minor": 0,
  "metadata": {
    "colab": {
      "provenance": [],
      "authorship_tag": "ABX9TyPBaHeLyW1Yvz9BNgGm6h7p",
      "include_colab_link": true
    },
    "kernelspec": {
      "name": "python3",
      "display_name": "Python 3"
    },
    "language_info": {
      "name": "python"
    },
    "widgets": {
      "application/vnd.jupyter.widget-state+json": {
        "abab416f30914133a476c667f81b17c9": {
          "model_module": "@jupyter-widgets/controls",
          "model_name": "HBoxModel",
          "model_module_version": "1.5.0",
          "state": {
            "_dom_classes": [],
            "_model_module": "@jupyter-widgets/controls",
            "_model_module_version": "1.5.0",
            "_model_name": "HBoxModel",
            "_view_count": null,
            "_view_module": "@jupyter-widgets/controls",
            "_view_module_version": "1.5.0",
            "_view_name": "HBoxView",
            "box_style": "",
            "children": [
              "IPY_MODEL_45b67afb29e04548884f1d9095e1672e",
              "IPY_MODEL_db50490d896e45de8ecc412157c0d6cf",
              "IPY_MODEL_1f20b11a160a41ccbc4c258572b0a10c"
            ],
            "layout": "IPY_MODEL_9d0455845e9847eb9704517718ff7fb2"
          }
        },
        "45b67afb29e04548884f1d9095e1672e": {
          "model_module": "@jupyter-widgets/controls",
          "model_name": "HTMLModel",
          "model_module_version": "1.5.0",
          "state": {
            "_dom_classes": [],
            "_model_module": "@jupyter-widgets/controls",
            "_model_module_version": "1.5.0",
            "_model_name": "HTMLModel",
            "_view_count": null,
            "_view_module": "@jupyter-widgets/controls",
            "_view_module_version": "1.5.0",
            "_view_name": "HTMLView",
            "description": "",
            "description_tooltip": null,
            "layout": "IPY_MODEL_9ada27b9237a4b52ba559a5156e0084c",
            "placeholder": "​",
            "style": "IPY_MODEL_13e407fa49c54c0db9b405e6537a572c",
            "value": "100%"
          }
        },
        "db50490d896e45de8ecc412157c0d6cf": {
          "model_module": "@jupyter-widgets/controls",
          "model_name": "FloatProgressModel",
          "model_module_version": "1.5.0",
          "state": {
            "_dom_classes": [],
            "_model_module": "@jupyter-widgets/controls",
            "_model_module_version": "1.5.0",
            "_model_name": "FloatProgressModel",
            "_view_count": null,
            "_view_module": "@jupyter-widgets/controls",
            "_view_module_version": "1.5.0",
            "_view_name": "ProgressView",
            "bar_style": "success",
            "description": "",
            "description_tooltip": null,
            "layout": "IPY_MODEL_d61cc97195c54f8487d426521932f7f3",
            "max": 21,
            "min": 0,
            "orientation": "horizontal",
            "style": "IPY_MODEL_01d5f756161d48ccace9db7250d19fa4",
            "value": 21
          }
        },
        "1f20b11a160a41ccbc4c258572b0a10c": {
          "model_module": "@jupyter-widgets/controls",
          "model_name": "HTMLModel",
          "model_module_version": "1.5.0",
          "state": {
            "_dom_classes": [],
            "_model_module": "@jupyter-widgets/controls",
            "_model_module_version": "1.5.0",
            "_model_name": "HTMLModel",
            "_view_count": null,
            "_view_module": "@jupyter-widgets/controls",
            "_view_module_version": "1.5.0",
            "_view_name": "HTMLView",
            "description": "",
            "description_tooltip": null,
            "layout": "IPY_MODEL_4e3082c0685e4c0da48e0239a8bda8da",
            "placeholder": "​",
            "style": "IPY_MODEL_8156084264354ea7a4a63c35b8014596",
            "value": " 21/21 [01:20&lt;00:00,  1.61s/it]"
          }
        },
        "9d0455845e9847eb9704517718ff7fb2": {
          "model_module": "@jupyter-widgets/base",
          "model_name": "LayoutModel",
          "model_module_version": "1.2.0",
          "state": {
            "_model_module": "@jupyter-widgets/base",
            "_model_module_version": "1.2.0",
            "_model_name": "LayoutModel",
            "_view_count": null,
            "_view_module": "@jupyter-widgets/base",
            "_view_module_version": "1.2.0",
            "_view_name": "LayoutView",
            "align_content": null,
            "align_items": null,
            "align_self": null,
            "border": null,
            "bottom": null,
            "display": null,
            "flex": null,
            "flex_flow": null,
            "grid_area": null,
            "grid_auto_columns": null,
            "grid_auto_flow": null,
            "grid_auto_rows": null,
            "grid_column": null,
            "grid_gap": null,
            "grid_row": null,
            "grid_template_areas": null,
            "grid_template_columns": null,
            "grid_template_rows": null,
            "height": null,
            "justify_content": null,
            "justify_items": null,
            "left": null,
            "margin": null,
            "max_height": null,
            "max_width": null,
            "min_height": null,
            "min_width": null,
            "object_fit": null,
            "object_position": null,
            "order": null,
            "overflow": null,
            "overflow_x": null,
            "overflow_y": null,
            "padding": null,
            "right": null,
            "top": null,
            "visibility": null,
            "width": null
          }
        },
        "9ada27b9237a4b52ba559a5156e0084c": {
          "model_module": "@jupyter-widgets/base",
          "model_name": "LayoutModel",
          "model_module_version": "1.2.0",
          "state": {
            "_model_module": "@jupyter-widgets/base",
            "_model_module_version": "1.2.0",
            "_model_name": "LayoutModel",
            "_view_count": null,
            "_view_module": "@jupyter-widgets/base",
            "_view_module_version": "1.2.0",
            "_view_name": "LayoutView",
            "align_content": null,
            "align_items": null,
            "align_self": null,
            "border": null,
            "bottom": null,
            "display": null,
            "flex": null,
            "flex_flow": null,
            "grid_area": null,
            "grid_auto_columns": null,
            "grid_auto_flow": null,
            "grid_auto_rows": null,
            "grid_column": null,
            "grid_gap": null,
            "grid_row": null,
            "grid_template_areas": null,
            "grid_template_columns": null,
            "grid_template_rows": null,
            "height": null,
            "justify_content": null,
            "justify_items": null,
            "left": null,
            "margin": null,
            "max_height": null,
            "max_width": null,
            "min_height": null,
            "min_width": null,
            "object_fit": null,
            "object_position": null,
            "order": null,
            "overflow": null,
            "overflow_x": null,
            "overflow_y": null,
            "padding": null,
            "right": null,
            "top": null,
            "visibility": null,
            "width": null
          }
        },
        "13e407fa49c54c0db9b405e6537a572c": {
          "model_module": "@jupyter-widgets/controls",
          "model_name": "DescriptionStyleModel",
          "model_module_version": "1.5.0",
          "state": {
            "_model_module": "@jupyter-widgets/controls",
            "_model_module_version": "1.5.0",
            "_model_name": "DescriptionStyleModel",
            "_view_count": null,
            "_view_module": "@jupyter-widgets/base",
            "_view_module_version": "1.2.0",
            "_view_name": "StyleView",
            "description_width": ""
          }
        },
        "d61cc97195c54f8487d426521932f7f3": {
          "model_module": "@jupyter-widgets/base",
          "model_name": "LayoutModel",
          "model_module_version": "1.2.0",
          "state": {
            "_model_module": "@jupyter-widgets/base",
            "_model_module_version": "1.2.0",
            "_model_name": "LayoutModel",
            "_view_count": null,
            "_view_module": "@jupyter-widgets/base",
            "_view_module_version": "1.2.0",
            "_view_name": "LayoutView",
            "align_content": null,
            "align_items": null,
            "align_self": null,
            "border": null,
            "bottom": null,
            "display": null,
            "flex": null,
            "flex_flow": null,
            "grid_area": null,
            "grid_auto_columns": null,
            "grid_auto_flow": null,
            "grid_auto_rows": null,
            "grid_column": null,
            "grid_gap": null,
            "grid_row": null,
            "grid_template_areas": null,
            "grid_template_columns": null,
            "grid_template_rows": null,
            "height": null,
            "justify_content": null,
            "justify_items": null,
            "left": null,
            "margin": null,
            "max_height": null,
            "max_width": null,
            "min_height": null,
            "min_width": null,
            "object_fit": null,
            "object_position": null,
            "order": null,
            "overflow": null,
            "overflow_x": null,
            "overflow_y": null,
            "padding": null,
            "right": null,
            "top": null,
            "visibility": null,
            "width": null
          }
        },
        "01d5f756161d48ccace9db7250d19fa4": {
          "model_module": "@jupyter-widgets/controls",
          "model_name": "ProgressStyleModel",
          "model_module_version": "1.5.0",
          "state": {
            "_model_module": "@jupyter-widgets/controls",
            "_model_module_version": "1.5.0",
            "_model_name": "ProgressStyleModel",
            "_view_count": null,
            "_view_module": "@jupyter-widgets/base",
            "_view_module_version": "1.2.0",
            "_view_name": "StyleView",
            "bar_color": null,
            "description_width": ""
          }
        },
        "4e3082c0685e4c0da48e0239a8bda8da": {
          "model_module": "@jupyter-widgets/base",
          "model_name": "LayoutModel",
          "model_module_version": "1.2.0",
          "state": {
            "_model_module": "@jupyter-widgets/base",
            "_model_module_version": "1.2.0",
            "_model_name": "LayoutModel",
            "_view_count": null,
            "_view_module": "@jupyter-widgets/base",
            "_view_module_version": "1.2.0",
            "_view_name": "LayoutView",
            "align_content": null,
            "align_items": null,
            "align_self": null,
            "border": null,
            "bottom": null,
            "display": null,
            "flex": null,
            "flex_flow": null,
            "grid_area": null,
            "grid_auto_columns": null,
            "grid_auto_flow": null,
            "grid_auto_rows": null,
            "grid_column": null,
            "grid_gap": null,
            "grid_row": null,
            "grid_template_areas": null,
            "grid_template_columns": null,
            "grid_template_rows": null,
            "height": null,
            "justify_content": null,
            "justify_items": null,
            "left": null,
            "margin": null,
            "max_height": null,
            "max_width": null,
            "min_height": null,
            "min_width": null,
            "object_fit": null,
            "object_position": null,
            "order": null,
            "overflow": null,
            "overflow_x": null,
            "overflow_y": null,
            "padding": null,
            "right": null,
            "top": null,
            "visibility": null,
            "width": null
          }
        },
        "8156084264354ea7a4a63c35b8014596": {
          "model_module": "@jupyter-widgets/controls",
          "model_name": "DescriptionStyleModel",
          "model_module_version": "1.5.0",
          "state": {
            "_model_module": "@jupyter-widgets/controls",
            "_model_module_version": "1.5.0",
            "_model_name": "DescriptionStyleModel",
            "_view_count": null,
            "_view_module": "@jupyter-widgets/base",
            "_view_module_version": "1.2.0",
            "_view_name": "StyleView",
            "description_width": ""
          }
        }
      }
    }
  },
  "cells": [
    {
      "cell_type": "markdown",
      "metadata": {
        "id": "view-in-github",
        "colab_type": "text"
      },
      "source": [
        "<a href=\"https://colab.research.google.com/github/HassanQuresh/Python-Projects/blob/main/Project_4.ipynb\" target=\"_parent\"><img src=\"https://colab.research.google.com/assets/colab-badge.svg\" alt=\"Open In Colab\"/></a>"
      ]
    },
    {
      "cell_type": "code",
      "execution_count": null,
      "metadata": {
        "id": "vxiz9spoLr0x"
      },
      "outputs": [],
      "source": [
        "!pip install -q google-generativeai"
      ]
    },
    {
      "cell_type": "code",
      "source": [
        "import google.generativeai as genai"
      ],
      "metadata": {
        "id": "_bNr8HQsMoIx"
      },
      "execution_count": null,
      "outputs": []
    },
    {
      "cell_type": "code",
      "source": [
        "from google.colab import userdata\n",
        "genai.configure(api_key=userdata.get('GOOGLE_API_KEY'))"
      ],
      "metadata": {
        "id": "VzRCGiDAMtfH"
      },
      "execution_count": null,
      "outputs": []
    },
    {
      "cell_type": "code",
      "source": [
        "for i, m in zip(range(5), genai.list_tuned_models()):\n",
        "  print(m.name)"
      ],
      "metadata": {
        "id": "NFRljkzgMtSh"
      },
      "execution_count": null,
      "outputs": []
    },
    {
      "cell_type": "code",
      "source": [
        "base_model = [\n",
        "    m for m in genai.list_models()\n",
        "    if \"createTunedModel\" in m.supported_generation_methods and\n",
        "    \"flash\" in m.name][0]"
      ],
      "metadata": {
        "id": "A8rGHr8KMtJV"
      },
      "execution_count": null,
      "outputs": []
    },
    {
      "cell_type": "code",
      "source": [
        "import random\n",
        "import re\n",
        "\n",
        "name = f'Caption Generator-{random.randint(0,10000)}'\n",
        "# Modify the name to match the regex pattern for id\n",
        "tuned_model_id = re.sub(r'[^a-z0-9-]', '-', name.lower()).strip('-')\n",
        "# Ensure it starts with a lowercase letter and replace invalid characters with hyphens\n",
        "\n",
        "operation = genai.create_tuned_model(\n",
        "    # You can use a tuned model here too. Set source_model=\"tunedModels/...\"\n",
        "    source_model=base_model.name,\n",
        "    training_data=[\n",
        "        {\n",
        "             'text_input': 'GYM Training',\n",
        "             'output': 'No pain, no gain. 💪 #FitnessGoals #Workout #Motivation #Strength #Health',\n",
        "        },{\n",
        "             'text_input': 'Cake company',\n",
        "             'output': 'Sweet moments. 🧁 #CakeLove #SweetTreats #Desserts #Baking #Celebration',\n",
        "        },{\n",
        "             'text_input': 'Travel agency',\n",
        "             'output': 'Adventure awaits. 🌍 #TravelGoals #Wanderlust #Explore #Adventure #Vacation',\n",
        "        },{\n",
        "             'text_input': 'Fitness trainer',\n",
        "             'output': 'No pain, no gain. 💪 #FitnessGoals #Workout #Motivation #Strength #Health',\n",
        "        },{\n",
        "             'text_input': 'Coffee shop',\n",
        "             'output': 'Start your day right. ☕ #CoffeeLover #MorningBrew #Cafe #Energy #CozyVibes',\n",
        "        },{\n",
        "             'text_input': 'Dog grooming service',\n",
        "             'output': 'Pawsitively perfect. 🐶 #DogGrooming #PetCare #Dogs #FurryFriends #PamperedPets',\n",
        "        },{\n",
        "             'text_input': 'Bookstore',\n",
        "             'output': 'Escape into a book. 📚 #BookWorm #ReadingTime #Books #Literature #Imagination',\n",
        "        },{\n",
        "             'text_input': 'Yoga studio',\n",
        "             'output': 'Find your balance. 🧘‍♀️ #YogaLife #Mindfulness #Wellness #Balance #Peace',\n",
        "        },{\n",
        "             'text_input': 'Jewelry store',\n",
        "             'output': 'Shine bright. 💎 #JewelryLover #Sparkle #Luxury #Style #Glamour',\n",
        "        },{\n",
        "             'text_input': 'Spa and wellness center',\n",
        "             'output': 'Relax and rejuvenate. 🚰 #SpaDay #Wellness #Relaxation #PamperYourself #Beauty',\n",
        "        },{\n",
        "             'text_input': 'Car dealership',\n",
        "             'output': 'Drive your dream. 🚗 #CarLovers #AutoLife #DreamCar #LuxuryCars #Vehicle',\n",
        "        },{\n",
        "             'text_input': 'Photography studio',\n",
        "             'output': 'Capture the moment. 📸 #PhotographyLife #Memories #PhotoShoot #Creativity #Art',\n",
        "        },{\n",
        "             'text_input': 'Music school',\n",
        "             'output': 'Unleash your talent. 🎶 #MusicLovers #LearnMusic #Talent #Creativity #Passion',\n",
        "        },{\n",
        "             'text_input': 'Tech repair shop',\n",
        "             'output': 'Fix it right. 💻 #TechRepair #GadgetCare #Technology #Solutions #Innovation',\n",
        "        },{\n",
        "             'text_input': 'Pet adoption center',\n",
        "             'output': 'Find a friend for life. 🐕 #PetAdoption #AnimalLovers #RescuePets #ForeverHome #FurryFriend',\n",
        "        },{\n",
        "             'text_input': 'Toy store',\n",
        "             'output': 'Playtime paradise. 🧸 #ToyStore #KidsDream #Fun #Toys #Happiness',\n",
        "        },{\n",
        "             'text_input': 'Ice cream parlor',\n",
        "             'output': 'Chill out with a scoop. 🍦 #IceCreamLove #SweetTreat #Desserts #CoolDown #SummerVibes',\n",
        "        },{\n",
        "             'text_input': 'Florist',\n",
        "             'output': 'Bloom your day. 🌸 #FloristShop #FlowerLove #Nature #Beauty #Fresh',\n",
        "        },{\n",
        "             'text_input': 'Home decor shop',\n",
        "             'output': 'Style your home. 🏡 #HomeDecor #LivingSpaces #InteriorDesign #Style #Comfort',\n",
        "        },{\n",
        "             'text_input': 'Art gallery',\n",
        "             'output': 'Art that inspires. 🎨 #ArtGallery #Creativity #Inspiration #Artists #Masterpiece',\n",
        "        },{\n",
        "             'text_input': 'Sportswear shop',\n",
        "             'output': 'Gear up for greatness. 🏃‍♂️ #Sportswear #ActiveLife #Fitness #Style #Performance',\n",
        "        }\n",
        "    ],\n",
        "    id=tuned_model_id, # Use the modified id\n",
        "    epoch_count=4,\n",
        "    batch_size=4,\n",
        "    learning_rate=0.001,\n",
        ")"
      ],
      "metadata": {
        "id": "XmsQXuofMsqm"
      },
      "execution_count": null,
      "outputs": []
    },
    {
      "cell_type": "code",
      "source": [
        "model = genai.get_tuned_model(f'tunedModels/{tuned_model_id}')"
      ],
      "metadata": {
        "id": "zLeT1t__MsgO"
      },
      "execution_count": null,
      "outputs": []
    },
    {
      "cell_type": "code",
      "source": [
        "import time\n",
        "\n",
        "for status in operation.wait_bar():\n",
        "  time.sleep(30)"
      ],
      "metadata": {
        "colab": {
          "base_uri": "https://localhost:8080/",
          "height": 49,
          "referenced_widgets": [
            "abab416f30914133a476c667f81b17c9",
            "45b67afb29e04548884f1d9095e1672e",
            "db50490d896e45de8ecc412157c0d6cf",
            "1f20b11a160a41ccbc4c258572b0a10c",
            "9d0455845e9847eb9704517718ff7fb2",
            "9ada27b9237a4b52ba559a5156e0084c",
            "13e407fa49c54c0db9b405e6537a572c",
            "d61cc97195c54f8487d426521932f7f3",
            "01d5f756161d48ccace9db7250d19fa4",
            "4e3082c0685e4c0da48e0239a8bda8da",
            "8156084264354ea7a4a63c35b8014596"
          ]
        },
        "id": "R6N-OXt5MsVG",
        "outputId": "407803ef-358b-4a45-fb8e-bc97c4d30161"
      },
      "execution_count": null,
      "outputs": [
        {
          "output_type": "display_data",
          "data": {
            "text/plain": [
              "  0%|          | 0/21 [00:00<?, ?it/s]"
            ],
            "application/vnd.jupyter.widget-view+json": {
              "version_major": 2,
              "version_minor": 0,
              "model_id": "abab416f30914133a476c667f81b17c9"
            }
          },
          "metadata": {}
        }
      ]
    },
    {
      "cell_type": "code",
      "source": [
        "import pandas as pd\n",
        "import seaborn as sns\n",
        "\n",
        "model = operation.result()\n",
        "\n",
        "snapshots = pd.DataFrame(model.tuning_task.snapshots)\n",
        "\n",
        "sns.lineplot(data=snapshots, x = 'epoch', y='mean_loss')"
      ],
      "metadata": {
        "colab": {
          "base_uri": "https://localhost:8080/",
          "height": 467
        },
        "id": "vZSCeREvMsLI",
        "outputId": "815e28cc-01df-4b6c-c73f-d8a9dfb3899e"
      },
      "execution_count": null,
      "outputs": [
        {
          "output_type": "execute_result",
          "data": {
            "text/plain": [
              "<Axes: xlabel='epoch', ylabel='mean_loss'>"
            ]
          },
          "metadata": {},
          "execution_count": 12
        },
        {
          "output_type": "display_data",
          "data": {
            "text/plain": [
              "<Figure size 640x480 with 1 Axes>"
            ],
            "image/png": "[encoded data removed]"
          },
          "metadata": {}
        }
      ]
    },
    {
      "cell_type": "code",
      "source": [
        "model = genai.GenerativeModel(model_name=f'tunedModels/{tuned_model_id}')"
      ],
      "metadata": {
        "id": "OfUbdvJCMsBq"
      },
      "execution_count": null,
      "outputs": []
    },
    {
      "cell_type": "code",
      "source": [
        "result = model.generate_content('Sports')\n",
        "result.text"
      ],
      "metadata": {
        "colab": {
          "base_uri": "https://localhost:8080/",
          "height": 35
        },
        "id": "7hcj-DMYMr3h",
        "outputId": "b7458f14-a08a-4fc1-ca23-608284da5ba1"
      },
      "execution_count": null,
      "outputs": [
        {
          "output_type": "execute_result",
          "data": {
            "text/plain": [
              "'Get active. #SportsLife #FitnessGoals #ActiveLife #Play #Champion'"
            ],
            "application/vnd.google.colaboratory.intrinsic+json": {
              "type": "string"
            }
          },
          "metadata": {},
          "execution_count": 14
        }
      ]
    },
    {
      "cell_type": "code",
      "source": [
        "result = model.generate_content('Yoga')\n",
        "result.text"
      ],
      "metadata": {
        "colab": {
          "base_uri": "https://localhost:8080/",
          "height": 35
        },
        "id": "oPGJSi4EMrvM",
        "outputId": "896a7200-da9f-488a-96f2-a4a3c51276cc"
      },
      "execution_count": null,
      "outputs": [
        {
          "output_type": "execute_result",
          "data": {
            "text/plain": [
              "'Find your peace. #YogaLife #Mindfulness #Wellness #Balance #Peace'"
            ],
            "application/vnd.google.colaboratory.intrinsic+json": {
              "type": "string"
            }
          },
          "metadata": {},
          "execution_count": 15
        }
      ]
    },
    {
      "cell_type": "code",
      "source": [
        "result = model.generate_content('Books')\n",
        "result.text"
      ],
      "metadata": {
        "colab": {
          "base_uri": "https://localhost:8080/",
          "height": 35
        },
        "id": "EN9QwDIMMrjs",
        "outputId": "ff8bcc4a-4809-4ea4-8d6e-d66d95accb42"
      },
      "execution_count": null,
      "outputs": [
        {
          "output_type": "execute_result",
          "data": {
            "text/plain": [
              "' Escape into a book. #Bookworm #Reading #Books #Literature #Adventure'"
            ],
            "application/vnd.google.colaboratory.intrinsic+json": {
              "type": "string"
            }
          },
          "metadata": {},
          "execution_count": 16
        }
      ]
    },
    {
      "cell_type": "code",
      "source": [
        "result = model.generate_content('Sportswear shop')\n",
        "result.text"
      ],
      "metadata": {
        "colab": {
          "base_uri": "https://localhost:8080/",
          "height": 35
        },
        "id": "2k-5eh0yMrZ6",
        "outputId": "88a72863-9838-423a-d754-36d5c3bb3b37"
      },
      "execution_count": null,
      "outputs": [
        {
          "output_type": "execute_result",
          "data": {
            "text/plain": [
              "'Gear up for greatness. #SportswearStyle #ActiveLife #Performance #Fitness #Goals'"
            ],
            "application/vnd.google.colaboratory.intrinsic+json": {
              "type": "string"
            }
          },
          "metadata": {},
          "execution_count": 17
        }
      ]
    },
    {
      "cell_type": "code",
      "source": [
        "result = model.generate_content('Ice Cream')\n",
        "result.text"
      ],
      "metadata": {
        "colab": {
          "base_uri": "https://localhost:8080/",
          "height": 35
        },
        "id": "9GFdGZWCMrPA",
        "outputId": "5014deda-35a5-4202-ac86-ad7451861c99"
      },
      "execution_count": null,
      "outputs": [
        {
          "output_type": "execute_result",
          "data": {
            "text/plain": [
              "' SweetTreatChill out with a scoop. #IceCream #Desserts #SweetTooth #CoolDown #SummerVibes'"
            ],
            "application/vnd.google.colaboratory.intrinsic+json": {
              "type": "string"
            }
          },
          "metadata": {},
          "execution_count": 18
        }
      ]
    },
    {
      "cell_type": "code",
      "source": [
        "genai.delete_tuned_model(f'tunedModels/{tuned_model_id}')"
      ],
      "metadata": {
        "id": "lswIsxSnMrEL"
      },
      "execution_count": null,
      "outputs": []
    },
    {
      "cell_type": "code",
      "source": [
        "try:\n",
        "  m = genai.get_tuned_model(f'tunedModels/{tuned_model_id}')\n",
        "  print(m)\n",
        "except Exception as e:\n",
        "  print(f\"{type(e)}: {e}\")"
      ],
      "metadata": {
        "colab": {
          "base_uri": "https://localhost:8080/",
          "height": 72
        },
        "id": "2PyoQ9rXMq4k",
        "outputId": "c20ab197-dcb6-4938-8213-3cc4538d07e7"
      },
      "execution_count": null,
      "outputs": [
        {
          "output_type": "stream",
          "name": "stdout",
          "text": [
            "<class 'google.api_core.exceptions.NotFound'>: 404 GET https://generativelanguage.googleapis.com/v1beta/tunedModels/caption-generator-3665?%24alt=json%3Benum-encoding%3Dint: Tuned model tunedModels/caption-generator-3665 does not exist.\n"
          ]
        },
        {
          "output_type": "stream",
          "name": "stderr",
          "text": [
            "WARNING:tornado.access:404 GET /v1beta/tunedModels/caption-generator-3665?%24alt=json%3Benum-encoding%3Dint (127.0.0.1) 1987.94ms\n"
          ]
        }
      ]
    },
    {
      "cell_type": "code",
      "source": [
        "!pip install langchain google-generativeai seaborn pandas -qU"
      ],
      "metadata": {
        "colab": {
          "base_uri": "https://localhost:8080/"
        },
        "id": "zI0GnP3yMquL",
        "outputId": "6475cce7-4084-4f03-f864-df0e7614127b"
      },
      "execution_count": null,
      "outputs": [
        {
          "output_type": "stream",
          "name": "stdout",
          "text": [
            "\u001b[2K     \u001b[90m━━━━━━━━━━━━━━━━━━━━━━━━━━━━━━━━━━━━━━━━\u001b[0m \u001b[32m89.9/89.9 kB\u001b[0m \u001b[31m3.5 MB/s\u001b[0m eta \u001b[36m0:00:00\u001b[0m\n",
            "\u001b[2K   \u001b[90m━━━━━━━━━━━━━━━━━━━━━━━━━━━━━━━━━━━━━━━━\u001b[0m \u001b[32m1.0/1.0 MB\u001b[0m \u001b[31m25.0 MB/s\u001b[0m eta \u001b[36m0:00:00\u001b[0m\n",
            "\u001b[2K   \u001b[90m━━━━━━━━━━━━━━━━━━━━━━━━━━━━━━━━━━━━━━━━\u001b[0m \u001b[32m13.1/13.1 MB\u001b[0m \u001b[31m63.4 MB/s\u001b[0m eta \u001b[36m0:00:00\u001b[0m\n",
            "\u001b[2K   \u001b[90m━━━━━━━━━━━━━━━━━━━━━━━━━━━━━━━━━━━━━━━━\u001b[0m \u001b[32m412.7/412.7 kB\u001b[0m \u001b[31m22.6 MB/s\u001b[0m eta \u001b[36m0:00:00\u001b[0m\n",
            "\u001b[?25h\u001b[31mERROR: pip's dependency resolver does not currently take into account all the packages that are installed. This behaviour is the source of the following dependency conflicts.\n",
            "google-colab 1.0.0 requires pandas==2.2.2, but you have pandas 2.2.3 which is incompatible.\u001b[0m\u001b[31m\n",
            "\u001b[0m"
          ]
        }
      ]
    },
    {
      "cell_type": "code",
      "source": [
        "import google.generativeai as genai\n",
        "\n",
        "# Configure API Key\n",
        "genai.configure(api_key=\"TUNED_MODEL_API_1\")"
      ],
      "metadata": {
        "id": "AJJW370eMqja"
      },
      "execution_count": null,
      "outputs": []
    },
    {
      "cell_type": "code",
      "source": [
        "!pip install langchain-community -q"
      ],
      "metadata": {
        "colab": {
          "base_uri": "https://localhost:8080/"
        },
        "id": "BRwM_ureMqZp",
        "outputId": "27432b70-cb41-46ec-c5f6-db2c39a5a543"
      },
      "execution_count": null,
      "outputs": [
        {
          "output_type": "stream",
          "name": "stdout",
          "text": [
            "\u001b[2K   \u001b[90m━━━━━━━━━━━━━━━━━━━━━━━━━━━━━━━━━━━━━━━━\u001b[0m \u001b[32m2.5/2.5 MB\u001b[0m \u001b[31m22.7 MB/s\u001b[0m eta \u001b[36m0:00:00\u001b[0m\n",
            "\u001b[2K   \u001b[90m━━━━━━━━━━━━━━━━━━━━━━━━━━━━━━━━━━━━━━━━\u001b[0m \u001b[32m50.8/50.8 kB\u001b[0m \u001b[31m3.2 MB/s\u001b[0m eta \u001b[36m0:00:00\u001b[0m\n",
            "\u001b[?25h"
          ]
        }
      ]
    },
    {
      "cell_type": "code",
      "source": [
        "from langchain.llms.base import LLM\n",
        "from pydantic import BaseModel, Field\n",
        "\n",
        "# Custom LangChain LLM Wrapper\n",
        "class GoogleGenAICustomLLM(LLM, BaseModel):\n",
        "    model_name: str = Field(..., description=\"Name of the fine-tuned model\")\n",
        "\n",
        "    @property\n",
        "    def _llm_type(self) -> str:\n",
        "        return \"google_generative_ai\"\n",
        "\n",
        "    def _call(self, prompt: str, stop: list = None) -> str:\n",
        "        try:\n",
        "            model = genai.GenerativeModel(model_name=self.model_name)\n",
        "            response = model.generate_content(prompt)\n",
        "            return response.text\n",
        "        except Exception as e:\n",
        "            return f\"Error generating content: {e}\""
      ],
      "metadata": {
        "id": "cxT7dzSSMqPI"
      },
      "execution_count": null,
      "outputs": []
    },
    {
      "cell_type": "code",
      "source": [
        "# Replace this with your actual fine-tuned model ID\n",
        "tuned_model_id = \"tunedModels/name-generator-c19d8v6ih2oz\"\n",
        "\n",
        "# Load the fine-tuned model\n",
        "model = genai.GenerativeModel(model_name=tuned_model_id)"
      ],
      "metadata": {
        "id": "WqT8POKxMqCY"
      },
      "execution_count": null,
      "outputs": []
    },
    {
      "cell_type": "code",
      "source": [
        "from langchain.prompts import PromptTemplate\n",
        "\n",
        "# Define the prompt template\n",
        "prompt = PromptTemplate(\n",
        "    input_variables=[\"business\"],\n",
        "    template=\"Generate a creative caption for {business}:\"\n",
        ")"
      ],
      "metadata": {
        "id": "mYR40Em4Mp4q"
      },
      "execution_count": null,
      "outputs": []
    },
    {
      "cell_type": "code",
      "source": [
        "from langchain.chains import LLMChain\n",
        "\n",
        "llm = GoogleGenAICustomLLM(model_name=tuned_model_id)\n",
        "\n",
        "# Create an LLM chain\n",
        "chain = LLMChain(llm=llm, prompt=prompt)"
      ],
      "metadata": {
        "colab": {
          "base_uri": "https://localhost:8080/"
        },
        "id": "iZyzuUj9MpvU",
        "outputId": "8f54facd-38e1-4221-b6d0-2a1d88676984"
      },
      "execution_count": null,
      "outputs": [
        {
          "output_type": "stream",
          "name": "stderr",
          "text": [
            "<ipython-input-28-4f05958342ac>:6: LangChainDeprecationWarning: The class `LLMChain` was deprecated in LangChain 0.1.17 and will be removed in 1.0. Use :meth:`~RunnableSequence, e.g., `prompt | llm`` instead.\n",
            "  chain = LLMChain(llm=llm, prompt=prompt)\n"
          ]
        }
      ]
    },
    {
      "cell_type": "code",
      "source": [
        "# Example inputs\n",
        "businesses = [\"Sportswear shop\", \"Yoga studio\", \"Ice cream parlor\"]\n",
        "\n",
        "# Generate and print captions\n",
        "for business in businesses:\n",
        "    caption = chain.run(business=business)\n",
        "    print(f\"Business: {business}\\nCaption: {caption}\\n\")"
      ],
      "metadata": {
        "colab": {
          "base_uri": "https://localhost:8080/",
          "height": 285
        },
        "id": "PC4IwOwNMplS",
        "outputId": "fca6dcd4-b344-4662-d2d6-84e241dd6750"
      },
      "execution_count": null,
      "outputs": [
        {
          "output_type": "stream",
          "name": "stderr",
          "text": [
            "<ipython-input-29-feca2fe96778>:6: LangChainDeprecationWarning: The method `Chain.run` was deprecated in langchain 0.1.0 and will be removed in 1.0. Use :meth:`~invoke` instead.\n",
            "  caption = chain.run(business=business)\n",
            "WARNING:tornado.access:400 POST /v1beta/tunedModels/name-generator-c19d8v6ih2oz:generateContent?%24alt=json%3Benum-encoding%3Dint (127.0.0.1) 2110.61ms\n"
          ]
        },
        {
          "output_type": "stream",
          "name": "stdout",
          "text": [
            "Business: Sportswear shop\n",
            "Caption: Error generating content: 400 POST https://generativelanguage.googleapis.com/v1beta/tunedModels/name-generator-c19d8v6ih2oz:generateContent?%24alt=json%3Benum-encoding%3Dint: API key not valid. Please pass a valid API key.\n",
            "\n"
          ]
        },
        {
          "output_type": "stream",
          "name": "stderr",
          "text": [
            "WARNING:tornado.access:400 POST /v1beta/tunedModels/name-generator-c19d8v6ih2oz:generateContent?%24alt=json%3Benum-encoding%3Dint (127.0.0.1) 1453.03ms\n"
          ]
        },
        {
          "output_type": "stream",
          "name": "stdout",
          "text": [
            "Business: Yoga studio\n",
            "Caption: Error generating content: 400 POST https://generativelanguage.googleapis.com/v1beta/tunedModels/name-generator-c19d8v6ih2oz:generateContent?%24alt=json%3Benum-encoding%3Dint: API key not valid. Please pass a valid API key.\n",
            "\n",
            "Business: Ice cream parlor\n",
            "Caption: Error generating content: 400 POST https://generativelanguage.googleapis.com/v1beta/tunedModels/name-generator-c19d8v6ih2oz:generateContent?%24alt=json%3Benum-encoding%3Dint: API key not valid. Please pass a valid API key.\n",
            "\n"
          ]
        },
        {
          "output_type": "stream",
          "name": "stderr",
          "text": [
            "WARNING:tornado.access:400 POST /v1beta/tunedModels/name-generator-c19d8v6ih2oz:generateContent?%24alt=json%3Benum-encoding%3Dint (127.0.0.1) 1267.38ms\n"
          ]
        }
      ]
    }
  ]
}